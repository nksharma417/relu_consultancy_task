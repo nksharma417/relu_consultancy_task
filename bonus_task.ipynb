{
 "cells": [
  {
   "cell_type": "markdown",
   "metadata": {},
   "source": [
    "### The below code is quite simple to bypass the captcha on the link you have attached. I simply downloaded the captcha find out the text using ml and cv and enter the text in the webpage. We can modify that according to our needs. "
   ]
  },
  {
   "cell_type": "code",
   "execution_count": null,
   "metadata": {},
   "outputs": [],
   "source": [
    "from selenium import webdriver             ### Importing some libraries which I am gonna use in this \n",
    "from selenium.webdriver.common.by import By\n",
    "\n",
    "import pandas as pd \n",
    "import numpy as np \n",
    "import warnings\n",
    "warnings.filterwarnings('ignore')\n",
    "from bs4 import BeautifulSoup\n",
    "import time\n",
    "import random \n",
    "import re\n",
    "import json"
   ]
  },
  {
   "cell_type": "code",
   "execution_count": null,
   "metadata": {},
   "outputs": [],
   "source": [
    "import os\n",
    "from PIL import Image\n",
    "import requests\n",
    "download_dir = \"D:/relu/driver_down_and_send/\"\n",
    "os.makedirs(download_dir, exist_ok=True)\n",
    "\n",
    "import easyocr\n",
    "import numpy as np \n",
    "reader = easyocr.Reader(['en']) "
   ]
  },
  {
   "cell_type": "code",
   "execution_count": null,
   "metadata": {},
   "outputs": [],
   "source": [
    "driver=webdriver.Firefox()"
   ]
  },
  {
   "cell_type": "code",
   "execution_count": null,
   "metadata": {},
   "outputs": [],
   "source": [
    "driver.get(https://www.amazon.com/errors/validateCaptcha)"
   ]
  },
  {
   "cell_type": "code",
   "execution_count": null,
   "metadata": {},
   "outputs": [],
   "source": [
    "a=driver.find_element(By.XPATH,'/html/body/div/div[1]/div[3]/div/div/form/div[1]/div/div/div[1]/img')\n",
    "\n",
    "image_url = a.get_attribute(\"src\")\n",
    "\n",
    "if image_url:\n",
    "    # Download the image\n",
    "    response = requests.get(image_url)\n",
    "    if response.status_code == 200:\n",
    "        image_filename = os.path.join(download_dir, os.path.basename(image_url))\n",
    "        with open(image_filename, \"wb\") as file:\n",
    "            file.write(response.content)\n",
    "        print(f\"Downloaded: {image_url}\")"
   ]
  },
  {
   "cell_type": "code",
   "execution_count": null,
   "metadata": {},
   "outputs": [],
   "source": [
    "\n",
    "img=Image.open(image_filename)\n",
    "new_size = (1000,300)  # Change the values to your desired width and height\n",
    "\n",
    "# Resize the image\n",
    "resized_img = img.resize(new_size)\n",
    "resized_img_array = np.array(resized_img)\n",
    "results = reader.readtext(resized_img_array)\n",
    "\n",
    "# Process the OCR results\n",
    "for (bbox, text, prob) in results:\n",
    "    print(f\"Text: {text}, Probability: {prob:.2f}\")"
   ]
  },
  {
   "cell_type": "code",
   "execution_count": null,
   "metadata": {},
   "outputs": [],
   "source": [
    "z=driver.find_element(By.CSS_SELECTOR,'#captchacharacters')\n",
    "z.click()"
   ]
  },
  {
   "cell_type": "code",
   "execution_count": null,
   "metadata": {},
   "outputs": [],
   "source": [
    "text_area_element = driver.find_element(By.CSS_SELECTOR,'#captchacharacters')\n",
    "text_area_element.clear()\n",
    "# Send keys to the text area\n",
    "text_area_element.send_keys(text)"
   ]
  },
  {
   "cell_type": "code",
   "execution_count": null,
   "metadata": {},
   "outputs": [],
   "source": [
    "y=driver.find_element(By.CSS_SELECTOR,'.a-button-text')\n",
    "y.click()"
   ]
  },
  {
   "cell_type": "code",
   "execution_count": null,
   "metadata": {},
   "outputs": [],
   "source": [
    "if os.path.exists(image_filename):\n",
    "    os.remove(image_filename)\n",
    "    print(f\"{image_filename} has been deleted.\")\n",
    "else:\n",
    "    print(f\"{image_filename} does not exist.\")"
   ]
  },
  {
   "cell_type": "markdown",
   "metadata": {},
   "source": [
    "### The above cells will perform the whole action"
   ]
  },
  {
   "cell_type": "code",
   "execution_count": null,
   "metadata": {},
   "outputs": [],
   "source": []
  }
 ],
 "metadata": {
  "kernelspec": {
   "display_name": "Python 3",
   "language": "python",
   "name": "python3"
  },
  "language_info": {
   "codemirror_mode": {
    "name": "ipython",
    "version": 3
   },
   "file_extension": ".py",
   "mimetype": "text/x-python",
   "name": "python",
   "nbconvert_exporter": "python",
   "pygments_lexer": "ipython3",
   "version": "3.11.6"
  }
 },
 "nbformat": 4,
 "nbformat_minor": 2
}
